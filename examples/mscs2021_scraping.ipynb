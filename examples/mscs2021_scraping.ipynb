{
 "cells": [
  {
   "cell_type": "code",
   "execution_count": 1,
   "metadata": {},
   "outputs": [],
   "source": [
    "import spacy\n",
    "nlp = spacy.load(\"en_core_web_trf\")"
   ]
  },
  {
   "cell_type": "code",
   "execution_count": 4,
   "metadata": {},
   "outputs": [
    {
     "ename": "ModuleNotFoundError",
     "evalue": "No module named 'pypdf'",
     "output_type": "error",
     "traceback": [
      "\u001b[0;31m---------------------------------------------------------------------------\u001b[0m",
      "\u001b[0;31mModuleNotFoundError\u001b[0m                       Traceback (most recent call last)",
      "\u001b[0;32m<ipython-input-4-913447a672fb>\u001b[0m in \u001b[0;36m<module>\u001b[0;34m\u001b[0m\n\u001b[0;32m----> 1\u001b[0;31m \u001b[0;32mimport\u001b[0m \u001b[0mpypdf\u001b[0m\u001b[0;34m\u001b[0m\u001b[0;34m\u001b[0m\u001b[0m\n\u001b[0m",
      "\u001b[0;31mModuleNotFoundError\u001b[0m: No module named 'pypdf'"
     ]
    }
   ],
   "source": [
    "import pypdf\n"
   ]
  },
  {
   "cell_type": "code",
   "execution_count": 20,
   "metadata": {},
   "outputs": [],
   "source": [
    "import chemdataextractor as cde\n",
    "\n",
    "with open(\".././mcs2021-lithium.pdf\", 'rb') as f:\n",
    "    doc = cde.Document.from_file(f, readers=[cde.reader.PdfReader()])"
   ]
  },
  {
   "cell_type": "code",
   "execution_count": 80,
   "metadata": {},
   "outputs": [],
   "source": [
    "with open(\"/home/mevans/mcs2021.pdf\", 'rb') as f:\n",
    "    doc = cde.Document.from_file(f, readers=[cde.reader.PdfReader()])"
   ]
  },
  {
   "cell_type": "code",
   "execution_count": 195,
   "metadata": {},
   "outputs": [
    {
     "name": "stdout",
     "output_type": "stream",
     "text": [
      "[('h', True), ('E', False), ('l', True), ('l', True), ('o', True)]\n"
     ]
    }
   ],
   "source": [
    "text = \"hEllo\"\n",
    "print(list(zip(text, [c.isalpha() ^ c.isupper() for c in text])))"
   ]
  },
  {
   "cell_type": "code",
   "execution_count": 330,
   "metadata": {
    "scrolled": false
   },
   "outputs": [],
   "source": [
    "import periodictable\n",
    "from collections import defaultdict\n",
    "names = [elem.name for elem in periodictable.elements]\n",
    "elem_map = defaultdict(list)\n",
    "last = None\n",
    "\n",
    "def no_newline(text):\n",
    "    return \"\\n\" not in text\n",
    "\n",
    "def any_alpha(text):\n",
    "    return any(c.isalpha() for c in text)\n",
    "\n",
    "def min_upper_alpha(text, min_=3):\n",
    "    return sum([(c.isalpha() and c.isupper()) for c in text]) > min_\n",
    "\n",
    "def all_alpha_are_upper(text):\n",
    "    \"\"\"Ensure that all alphabetical characters are upper-case.\n",
    "    \n",
    "    >>> all_alpha_are_upper(\"abcd\")\n",
    "    False\n",
    "    >>> all_alpha_are_upper(\"ABCD\")\n",
    "    True\n",
    "    >>> all_alpha_are_upper(\"AB1CD\")\n",
    "    True\n",
    "    >>> all_alpha_are_upper(\"AB1Cd\")\n",
    "    False\n",
    "    \n",
    "    \"\"\"\n",
    "    return not any(c.isalpha() ^ c.isupper() for c in text)\n",
    "\n",
    "def max_spaces(text, max_=5):\n",
    "    return text.count(\" \") < 5\n",
    "\n",
    "def all_upper(text):\n",
    "    return all(c.isupper() for c in text)\n",
    "\n",
    "def is_commodity_header(text):\n",
    "    return no_newline(text) and any_alpha(text) and min_upper_alpha(text) and all_alpha_are_upper(text) and max_spaces(text)\n",
    "\n",
    "\n",
    "for ind, elem in enumerate(doc.elements):\n",
    "    if \"intentionally left blank\" in elem.text.lower():\n",
    "        start_ind = ind + 1\n",
    "    if \"appendix\" in elem.text.lower() and is_commodity_header(elem.text):\n",
    "        end_ind = ind -1\n",
    "        break\n",
    "        \n",
    "import re\n",
    "\n",
    "for ind, elem in enumerate(doc.elements[start_ind:end_ind]):\n",
    "    if is_commodity_header(elem.text):\n",
    "        elem_text = re.sub(r\"[0-9]+\", \"\", elem.text)\n",
    "        if last != elem_text:\n",
    "            elem_map[elem_text].append(start_ind + ind)\n",
    "            if last is not None:\n",
    "                elem_map[last].append(start_ind + ind - 1)\n",
    "        last = elem_text\n",
    "elem_map[last].append(end_ind)"
   ]
  },
  {
   "cell_type": "code",
   "execution_count": 331,
   "metadata": {},
   "outputs": [],
   "source": [
    "non_elems = [elem for elem in elem_map if elem.lower() not in names]\n",
    "for not_elem in non_elems:\n",
    "    elem_map.pop(not_elem)"
   ]
  },
  {
   "cell_type": "code",
   "execution_count": 332,
   "metadata": {},
   "outputs": [
    {
     "data": {
      "text/plain": [
       "defaultdict(list,\n",
       "            {'ALUMINUM': [1039, 1114],\n",
       "             'ANTIMONY': [1115, 1190],\n",
       "             'ARSENIC': [1191, 1244],\n",
       "             'BERYLLIUM': [1436, 1504],\n",
       "             'BISMUTH': [1505, 1561],\n",
       "             'BORON': [1562, 1630],\n",
       "             'BROMINE': [1631, 1690],\n",
       "             'CADMIUM': [1691, 1750],\n",
       "             'CESIUM': [1805, 1834],\n",
       "             'CHROMIUM': [1835, 1922],\n",
       "             'COBALT': [2008, 2091],\n",
       "             'COPPER': [2092, 2180],\n",
       "             'GALLIUM': [2449, 2510],\n",
       "             'GERMANIUM': [2622, 2691],\n",
       "             'GOLD': [2692, 2748],\n",
       "             'HELIUM': [2858, 2905],\n",
       "             'INDIUM': [2906, 2955],\n",
       "             'IODINE': [2956, 3012],\n",
       "             'LEAD': [3399, 3466],\n",
       "             'LITHIUM': [3507, 3588],\n",
       "             'MANGANESE': [3696, 3784],\n",
       "             'MERCURY': [3785, 3848],\n",
       "             'MOLYBDENUM': [3936, 3990],\n",
       "             'NICKEL': [3991, 4080],\n",
       "             'RHENIUM': [4679, 4727],\n",
       "             'RUBIDIUM': [4728, 4756],\n",
       "             'SCANDIUM': [4904, 4984],\n",
       "             'SELENIUM': [4985, 5036],\n",
       "             'SILICON': [5037, 5113],\n",
       "             'SILVER': [5114, 5174],\n",
       "             'STRONTIUM': [5347, 5409],\n",
       "             'SULFUR': [5410, 5477],\n",
       "             'TANTALUM': [5529, 5600],\n",
       "             'TELLURIUM': [5601, 5646],\n",
       "             'THALLIUM': [5647, 5698],\n",
       "             'THORIUM': [5699, 5848],\n",
       "             'TUNGSTEN': [5974, 6064],\n",
       "             'VANADIUM': [6065, 6129],\n",
       "             'YTTRIUM': [6224, 6297],\n",
       "             'ZINC': [6344, 6441]})"
      ]
     },
     "execution_count": 332,
     "metadata": {},
     "output_type": "execute_result"
    }
   ],
   "source": [
    "elem_map"
   ]
  },
  {
   "cell_type": "code",
   "execution_count": 340,
   "metadata": {},
   "outputs": [
    {
     "name": "stdout",
     "output_type": "stream",
     "text": [
      "ALUMINUM1\n",
      "(Data in thousand metric tons unless otherwise noted)\n",
      "Domestic Production and Use: In 2020, three companies operated seven primary aluminum smelters in six States. \n",
      "Two smelters operated at full capacity and four smelters operated at reduced capacity throughout the year. One \n",
      "smelter operated at reduced capacity until it was idled in July. One other smelter remained on standby throughout the \n",
      "year. Domestic smelters were operating at about 49% of capacity of 1.79 million tons per year at yearend 2020. \n",
      "Production decreased by 8% after increasing in 2019. Based on published prices, the value of primary aluminum \n",
      "production was about $1.98 billion, 17% less than the value in 2019. The average annual U.S. market price declined \n",
      "by about 11% from that in 2019. Transportation applications accounted for 40% of domestic consumption; in \n",
      "descending order of consumption, the remainder was used in packaging, 21%; building, 14%; electrical, 8%; \n",
      "consumer durables, 7%; machinery, 7%; and other, 3%.\n",
      "Salient Statistics—United States: \n",
      "Production: \n",
      "Primary \n",
      "Secondary (from old scrap) \n",
      "Secondary (from new scrap)\n",
      "Imports for consumption:\n",
      "Crude and semimanufactures \n",
      "Scrap \n",
      "Exports:\n",
      "Crude and semimanufactures \n",
      "Scrap\n",
      "Consumption, apparent2 \n",
      "Supply, apparent3 \n",
      "Price, ingot, average U.S. market (spot), cents per pound \n",
      "Stocks, yearend:\n",
      "Aluminum industry \n",
      "London Metal Exchange (LME), U.S. warehouses4\n",
      "Employment, number5 \n",
      "Net import reliance6 as a percentage of\n",
      "apparent consumption\n",
      "2016\n",
      "2017\n",
      "2018\n",
      "2019\n",
      "2020e\n",
      "818 \n",
      "1,570 \n",
      "2,010\n",
      "5,410 \n",
      "609\n",
      "1,470 \n",
      "1,350 \n",
      "5,090 \n",
      "7,100 \n",
      "80.4\n",
      "741 \n",
      "1,590 \n",
      "2,050\n",
      "6,220 \n",
      "700\n",
      "1,330 \n",
      "1,570 \n",
      "5,680 \n",
      "7,730 \n",
      "98.3\n",
      "891 \n",
      "1,570 \n",
      "2,140\n",
      "5,550 \n",
      "695\n",
      "1,310 \n",
      "1,760 \n",
      "4,900 \n",
      "7,040 \n",
      "114.7\n",
      "1,093 \n",
      "1,540 \n",
      "1,920\n",
      "5,210 \n",
      "596\n",
      "1,090 \n",
      "1,860 \n",
      "4,940 \n",
      "6,860 \n",
      "99.5\n",
      "1,000 \n",
      "1,500 \n",
      "1,700\n",
      "3,200 \n",
      "530\n",
      "880 \n",
      "2,000 \n",
      "2,870 \n",
      "4,570 \n",
      "89\n",
      "1,400 \n",
      "362 \n",
      "31,900\n",
      "1,470 \n",
      "254 \n",
      "31,700\n",
      "1,570 \n",
      "186 \n",
      "31,600\n",
      "1,600 \n",
      "120 \n",
      "32,900\n",
      "1,400 \n",
      "250 \n",
      "31,900\n",
      "53\n",
      "59\n",
      "50\n",
      "47\n",
      "13\n",
      "Recycling: In 2020, aluminum recovered from purchased scrap in the United States was about 3.2 million tons, of \n",
      "which about 53% came from new (manufacturing) scrap and 47% from old scrap (discarded aluminum products). \n",
      "Aluminum recovered from old scrap was equivalent to about 51% of apparent consumption.\n",
      "Import Sources (2016–19): Canada, 50%; the United Arab Emirates, 10%; Russia 9%; China, 5%; and other, 26%.\n",
      "Tariff:      Item\n",
      "Aluminum, not alloyed: \n",
      "Unwrought (in coils) \n",
      "Unwrought (other than aluminum alloys)\n",
      "Aluminum alloys, unwrought (billet) \n",
      "Aluminum scrap:\n",
      "Used beverage container scrap \n",
      "Industrial process scrap\n",
      "Depletion Allowance: Not applicable.1\n",
      "Government Stockpile: None.\n",
      "Number\n",
      "7601.10.3000 \n",
      "7601.10.6000 \n",
      "7601.20.9045\n",
      "7602.00.0030 \n",
      "7602.00.0091\n",
      "Normal Trade Relations \n",
      "12–31–20\n",
      "2.6% ad val. \n",
      "Free. \n",
      "Free.\n",
      "Free. \n",
      "Free.\n",
      "Events, Trends, and Issues: Starting in March, many aluminum consumers shut down or reduced production in \n",
      "response to the COVID-19 pandemic. Several manufacturers in the aerospace and automotive industries shut down \n",
      "production facilities citing local government orders, agreements negotiated between the companies and the unions \n",
      "representing employees, or decreased demand by retail consumers. Several extruders, rolling mills, and secondary \n",
      "smelters decreased output or shut down in response to the COVID-19 pandemic. By July, most of the shutdowns \n",
      "ended as safety measures were implemented. Consumption of aluminum for containers and packaging remained \n",
      "steady as bars and restaurants were ordered closed by many local authorities, resulting in increased demand for \n",
      "beverages in aluminum cans. Rolling mills and secondary smelters that produce can sheet increased imports of\n",
      "Prepared by E. Lee Bray [(703) 648–4979, lbray@usgs.gov]\n",
      "ALUMINUM\n",
      "21\n",
      "used beverage cans to make up for decreased supply from domestic can redemption centers that were closed in \n",
      "most States. Primary aluminum smelters were exempted from the lockdown orders.\n",
      "In March, a 252,000-ton-per-year smelter in Hawesville, KY, completed restarting one potline with 50,000 tons per \n",
      "year of capacity after scheduled maintenance work. The restart of another 50,000-ton-per-year potline at the \n",
      "Hawesville smelter was delayed because of economic conditions after maintenance work was completed. In July, a \n",
      "279,000-ton-per-year smelter in Ferndale, WA, shut down four of its five potlines, citing high power prices and low \n",
      "aluminum prices. The rest of its capacity was shut down previously.\n",
      "On January 24, the President of the United States imposed a 10% tariff on imported products made with aluminum. In \n",
      "March 2018, a 10% tariff was imposed on imports of aluminum but concerns had been raised that domestic \n",
      "manufacturers were having to pay more for aluminum and that competitors were able to import finished products \n",
      "without having to pay a tariff on the aluminum contained in finished products. Aluminum imports from all countries \n",
      "except Argentina, Australia, Canada, and Mexico remained subject to the 10% ad valorem tariff as of early \n",
      "December. The 10% tariffs were imposed under authority of section 232 of the Trade Expansion Act of 1962.\n",
      "In March, the U.S. Department of Commerce initiated a countervailing duty investigation of imports of common alloy \n",
      "aluminum sheet from 18 countries. The U.S. International Trade Commission initiated an antidumping investigation on \n",
      "the same products from four countries. On August 10, the U.S. Department of Commerce issued its preliminary \n",
      "determination of the countervailing duty investigation and set preliminary subsidy rates, with a final determination \n",
      "expected by early 2021. The U.S. International Trade Commission was expected to issue its final determination in \n",
      "February 2021. In June, the U.S. Department of Commerce issued its preliminary determination of the countervailing \n",
      "duty investigation of foil imports from China and set preliminary subsidy rates.\n",
      "World Smelter Production and Capacity: Capacity data for China and Russia were revised based on Government \n",
      "and company data.\n",
      "United States \n",
      "Australia \n",
      "Bahrain \n",
      "Canada \n",
      "China \n",
      "Iceland \n",
      "India \n",
      "Norway \n",
      "Russia \n",
      "United Arab Emirates \n",
      "Other countries\n",
      "World total (rounded)\n",
      "Production\n",
      "2019 \n",
      "1,093 \n",
      "1,570 \n",
      "1,370 \n",
      "2,850 \n",
      "35,000 \n",
      "845 \n",
      "3,640 \n",
      "1,400 \n",
      "3,640 \n",
      "2,600 \n",
      "  9,200 \n",
      "63,200\n",
      "2020e \n",
      "1,000 \n",
      "1,600 \n",
      "1,500 \n",
      "3,100 \n",
      "37,000 \n",
      "840 \n",
      "3,600 \n",
      "1,400 \n",
      "3,600 \n",
      "2,600 \n",
      "  9,000 \n",
      "65,200\n",
      "Yearend capacity \n",
      "2020e \n",
      "1,790 \n",
      "1,720 \n",
      "1,540 \n",
      "3,270 \n",
      "43,000 \n",
      "890 \n",
      "4,060 \n",
      "1,430 \n",
      "4,020 \n",
      "2,700 \n",
      "12,300 \n",
      "76,700\n",
      "2019 \n",
      "1,790 \n",
      "1,720 \n",
      "1,540 \n",
      "3,270 \n",
      "41,300 \n",
      "890 \n",
      "4,060 \n",
      "1,430 \n",
      "4,020 \n",
      "2,700 \n",
      "12,200 \n",
      "74,900\n",
      "World Resources:7 Global resources of bauxite are estimated to be between 55 billion and 75 billion tons and are \n",
      "sufficient to meet world demand for metal well into the future.1\n",
      "Found quantity for between 55 billion and 75 billion tons of ZINC\n"
     ]
    }
   ],
   "source": [
    "def get_world_resource(element, elem_map, doc):\n",
    "    d = doc[slice(*elem_map[element])]\n",
    "    for ind, para in enumerate(d):\n",
    "        print(para.text)\n",
    "        if \"Production and Reserves\" in para.text or \"Production and Capacity\" in para.text:\n",
    "            table_start = ind\n",
    "        if para.text.startswith(\"World Resources:\"):\n",
    "            table_end = ind - 1\n",
    "            resource = para\n",
    "            break\n",
    "    else:\n",
    "        raise RuntimeError(\"Unable to find world resources paragraph\")\n",
    "        \n",
    "    production_table = d[table_start:table_end]\n",
    "    \n",
    "    resource = nlp(para.text)\n",
    "    reserve_guess = None\n",
    "    for c in resource.ents:\n",
    "        if c.label_ in (\"QUANTITY\" or \"NUMBER\"):\n",
    "             print(f\"Found quantity for {c} of {elem}\")\n",
    "             if reserve_guess is None or c > reserve_guess:\n",
    "                reserve_guess = c\n",
    "    if reserve_guess is None:\n",
    "        print(f\"Unable to find quantity for {elem}\")\n",
    "        \n",
    "    return reserve_guess, production_table\n",
    "        \n",
    "resource = get_world_resource(\"ALUMINUM\", elem_map, doc)"
   ]
  },
  {
   "cell_type": "code",
   "execution_count": 341,
   "metadata": {},
   "outputs": [
    {
     "data": {
      "text/plain": [
       "[Paragraph(id=None, references=[], text='World Smelter Production and Capacity: Capacity data for China and Russia were revised based on Government \\nand company data.'),\n",
       " Paragraph(id=None, references=[], text='United States \\nAustralia \\nBahrain \\nCanada \\nChina \\nIceland \\nIndia \\nNorway \\nRussia \\nUnited Arab Emirates \\nOther countries'),\n",
       " Paragraph(id=None, references=[], text='World total (rounded)'),\n",
       " Paragraph(id=None, references=[], text='Production'),\n",
       " Paragraph(id=None, references=[], text='2019 \\n1,093 \\n1,570 \\n1,370 \\n2,850 \\n35,000 \\n845 \\n3,640 \\n1,400 \\n3,640 \\n2,600 \\n  9,200 \\n63,200'),\n",
       " Paragraph(id=None, references=[], text='2020e \\n1,000 \\n1,600 \\n1,500 \\n3,100 \\n37,000 \\n840 \\n3,600 \\n1,400 \\n3,600 \\n2,600 \\n  9,000 \\n65,200'),\n",
       " Paragraph(id=None, references=[], text='Yearend capacity \\n2020e \\n1,790 \\n1,720 \\n1,540 \\n3,270 \\n43,000 \\n890 \\n4,060 \\n1,430 \\n4,020 \\n2,700 \\n12,300 \\n76,700')]"
      ]
     },
     "execution_count": 341,
     "metadata": {},
     "output_type": "execute_result"
    }
   ],
   "source": [
    "resource[-1]"
   ]
  },
  {
   "cell_type": "code",
   "execution_count": 334,
   "metadata": {},
   "outputs": [
    {
     "name": "stdout",
     "output_type": "stream",
     "text": [
      "ALUMINUM\n",
      "(between 55 billion and 75 billion tons,)\n",
      "Found quantity for between 55 billion and 75 billion tons of ALUMINUM\n",
      "ANTIMONY\n",
      "(U.S., Alaska, Idaho, Montana, Nevada, Australia, Bolivia, China, Mexico, Russia, South Africa, Tajikistan, Mississippi Valley)\n",
      "Unable to find quantity for ANTIMONY\n",
      "ARSENIC\n",
      "(Peru, Philippines, Chile, Canada, China, Guemassa, Marrakech, Morocco)\n",
      "Unable to find quantity for ARSENIC\n",
      "BERYLLIUM\n",
      "(more than 100,000 tons, About 60%, the United States, the Spor Mountain area, Utah, the McCullough \n",
      "Butte area, Nevada, the Black Hills, South Dakota, the Sierra Blanca, Texas, the Seward Peninsula, the Gold Hill, Utah)\n",
      "Found quantity for more than 100,000 tons of BERYLLIUM\n",
      "BISMUTH\n",
      "(China, Vietnam, the Tasna Mine, Bolivia, China, The Tasna Mine, 1996)\n",
      "Unable to find quantity for BISMUTH\n",
      "BORON\n",
      "(the Mojave Desert, the United States, Alpide, Asia, South America, U.S., About 70%, Turkey)\n",
      "Unable to find quantity for BORON\n",
      "BROMINE\n",
      "(The Dead Sea, the Middle East, 1 billion tons, about 65 parts per million bromine, an estimated 100 trillion tons)\n",
      "Found quantity for 1 billion tons of BROMINE\n",
      "Found quantity for about 65 parts per million bromine of BROMINE\n",
      "Found quantity for an estimated 100 trillion tons of BROMINE\n",
      "CADMIUM\n",
      "()\n",
      "Unable to find quantity for CADMIUM\n",
      "CESIUM\n",
      "(Australia, Canada, Namibia, the United States, Zimbabwe, the United States, Alaska, Maine, South Dakota, Chile, China, Germany, India, Tibet, China, Yichun, Jiangxi Province)\n",
      "Unable to find quantity for CESIUM\n",
      "CHROMIUM\n",
      "(12 billion tons, centuries, 95%, Africa, United States, the Stillwater Complex, Montana)\n",
      "Found quantity for 12 billion tons of CHROMIUM\n",
      "COBALT\n",
      "(the United States, about 1 million tons, Minnesota, Alaska, California, Idaho, Michigan, Missouri, Montana, Oregon, Pennsylvania, Idaho, Missouri, about 25 million tons, Congo, Zambia, Australia, Cuba, Australia, Canada, Russia, the United States, More than 120 million tons, Atlantic, Indian, Pacific Oceans)\n",
      "Found quantity for about 1 million tons of COBALT\n",
      "Found quantity for about 25 million tons of COBALT\n",
      "Found quantity for More than 120 million tons of COBALT\n",
      "COPPER\n",
      "(U.S. Geological Survey, 2015, 2.1 billion tons, an estimated 3.5 billion tons.9)\n",
      "Found quantity for 2.1 billion tons of COPPER\n",
      "Found quantity for an estimated 3.5 billion tons.9 of COPPER\n",
      "GALLIUM\n",
      "(50 parts per million., U.S., 1 million tons, less than 10%)\n",
      "Found quantity for 1 million tons of GALLIUM\n",
      "GERMANIUM\n",
      "(U.S., Alaska, Tennessee, Washington, U.S., as much \n",
      ", as 2,500 tons, as little as 3%)\n",
      "Found quantity for as much \n",
      " of GERMANIUM\n",
      "Found quantity for as 2,500 tons of GERMANIUM\n",
      "GOLD\n",
      "(U.S., 33,000 tons, 15,000 tons, 18,000 tons, the United States)\n",
      "Found quantity for 33,000 tons of GOLD\n",
      "Found quantity for 15,000 tons of GOLD\n",
      "Found quantity for 18,000 tons of GOLD\n",
      "HELIUM\n",
      "(World Resources:9 Section 16 of Public Law 113–40 requires the, USGS, USGS, BLM, USGS, 2021, BLM, the Helium \n",
      "Resources of, the United States, midyear 2021)\n",
      "Unable to find quantity for HELIUM\n",
      "INDIUM\n",
      "(100 parts per million.,)\n",
      "Found quantity for 100 parts per million. of INDIUM\n",
      "IODINE\n",
      "(0.06 part per million iodine, approximately 90 billion tons, up to \n",
      "0.45%, prior to 1959)\n",
      "Found quantity for approximately 90 billion tons of IODINE\n",
      "LEAD\n",
      "(more than 2 billion tons, recent years, Australia, China, Ireland, Mexico, Peru, Portugal, Russia, the United States (, Alaska)\n",
      "Found quantity for more than 2 billion tons of LEAD\n",
      "LITHIUM\n",
      "(about 86 million tons, the United States, 7.9 million tons, 78 million tons, Bolivia, 21 million tons, Argentina, 19.3 million tons, Chile, 9.6 million tons, Australia, 6.4 million tons, China, 5.1 million tons, Congo, Kinshasa, 3 million tons, Canada, 2.9 million tons, Germany, 2.7 million tons, Mexico, 1.7 million tons, Czechia, 1.3 million tons, Serbia, 1.2 million tons, Peru, 880,000 tons, Mali, 700,000 tons, Zimbabwe, 500,000 tons, Brazil, 470,000 tons, Spain, 300,000 tons, Portugal, 270,000 tons, Ghana, 90,000 tons, Austria, Finland, Kazakhstan, Namibia, 50,000 tons)\n",
      "Found quantity for about 86 million tons of LITHIUM\n",
      "Found quantity for 7.9 million tons of LITHIUM\n",
      "Found quantity for 78 million tons of LITHIUM\n",
      "Found quantity for 21 million tons of LITHIUM\n",
      "Found quantity for 19.3 million tons of LITHIUM\n",
      "Found quantity for 9.6 million tons of LITHIUM\n",
      "Found quantity for 6.4 million tons of LITHIUM\n",
      "Found quantity for 5.1 million tons of LITHIUM\n",
      "Found quantity for 3 million tons of LITHIUM\n",
      "Found quantity for 2.9 million tons of LITHIUM\n",
      "Found quantity for 2.7 million tons of LITHIUM\n",
      "Found quantity for 1.7 million tons of LITHIUM\n",
      "Found quantity for 1.3 million tons of LITHIUM\n",
      "Found quantity for 1.2 million tons of LITHIUM\n",
      "Found quantity for 880,000 tons of LITHIUM\n",
      "Found quantity for 700,000 tons of LITHIUM\n",
      "Found quantity for 500,000 tons of LITHIUM\n",
      "Found quantity for 470,000 tons of LITHIUM\n",
      "Found quantity for 300,000 tons of LITHIUM\n",
      "Found quantity for 270,000 tons of LITHIUM\n",
      "Found quantity for 90,000 tons of LITHIUM\n",
      "Found quantity for 50,000 tons of LITHIUM\n",
      "MANGANESE\n",
      "(the United \n",
      "States, South Africa, about 40%, Brazil, about 20%)\n",
      "Unable to find quantity for MANGANESE\n",
      "MERCURY\n",
      "(China, Kyrgyzstan, Mexico, Peru, Russia, Slovenia, Spain, Ukraine, 600,000 tons, Mexico, Spanish, Spain, Almaden Mine, 2003, United \n",
      "States, Alaska, Arkansas, California, Nevada, Texas, centuries)\n",
      "Found quantity for 600,000 tons of MERCURY\n",
      "MOLYBDENUM\n",
      "(the United States, about 5.4 million tons, about 20 million tons)\n",
      "Found quantity for about 5.4 million tons of MOLYBDENUM\n",
      "Found quantity for about 20 million tons of MOLYBDENUM\n",
      "NICKEL\n",
      "(approximately 0.5%, at least \n",
      "300 million tons, about 60%, 40%)\n",
      "Found quantity for at least \n",
      "300 million tons of NICKEL\n",
      "RHENIUM\n",
      "(U.S., about 7 million kilograms, Armenia, Kazakhstan, Poland, Russia, Uzbekistan)\n",
      "Found quantity for about 7 million kilograms of RHENIUM\n",
      "RUBIDIUM\n",
      "(Afghanistan, Australia, Canada, China, Denmark, Germany, Japan, Kazakhstan, Namibia, Peru, Russia, the United Kingdom, the \n",
      "United States, Zambia, Chile, China, the United States, New Mexico, Utah, France, Germany)\n",
      "Unable to find quantity for RUBIDIUM\n",
      "SCANDIUM\n",
      "(more than 100, Australia, Canada, China, Finland, Guinea, Kazakhstan, Madagascar, Norway, South Africa, the \n",
      "Philippines, Russia, Ukraine, the United States)\n",
      "Unable to find quantity for SCANDIUM\n",
      "SELENIUM\n",
      "(between 0.5 and 12, million, about 80 to 90)\n",
      "Unable to find quantity for SELENIUM\n",
      "SILICON\n",
      "(many decades,)\n",
      "Unable to find quantity for SILICON\n",
      "SILVER\n",
      "(more than two-thirds, U.S.)\n",
      "Unable to find quantity for SILVER\n",
      "STRONTIUM\n",
      "(1 billion tons,)\n",
      "Found quantity for 1 billion tons of STRONTIUM\n",
      "SULFUR\n",
      "(about 5 billion tons, 600 billion tons, about one-fifth)\n",
      "Found quantity for about 5 billion tons of SULFUR\n",
      "Found quantity for 600 billion tons of SULFUR\n",
      "TANTALUM\n",
      "(Australia, Brazil, Canada, The United States, about 55,000 tons, 2020)\n",
      "Found quantity for about 55,000 tons of TANTALUM\n",
      "TELLURIUM\n",
      "(More than 90%,)\n",
      "Unable to find quantity for TELLURIUM\n",
      "THALLIUM\n",
      "(Earth, about 0.7 part per \n",
      "million, as much as 17 million kilograms, Europe, Canada, the United States, an estimated 630 million kilograms)\n",
      "Found quantity for as much as 17 million kilograms of THALLIUM\n",
      "Found quantity for an estimated 630 million kilograms of THALLIUM\n",
      "THORIUM\n",
      "(the Organisation for \n",
      "Economic Co-operation and Development’s, 6.4 million tons, Australia, Brazil, India, the United States, India, 850,000 tons, Brazil, 630,000 tons, Australia, the United States, 600,000 tons)\n",
      "Found quantity for 6.4 million tons of THORIUM\n",
      "Found quantity for 850,000 tons of THORIUM\n",
      "Found quantity for 630,000 tons of THORIUM\n",
      "Found quantity for 600,000 tons of THORIUM\n",
      "TUNGSTEN\n",
      "(China, first, Canada, Kazakhstan, Russia)\n",
      "Unable to find quantity for TUNGSTEN\n",
      "VANADIUM\n",
      "(63 million tons, less than 2%, U.S.)\n",
      "Found quantity for 63 million tons of VANADIUM\n",
      "YTTRIUM\n",
      "()\n",
      "Unable to find quantity for YTTRIUM\n",
      "ZINC\n",
      "(about 1.9 billion tons,)\n",
      "Found quantity for about 1.9 billion tons of ZINC\n"
     ]
    }
   ],
   "source": [
    "elem_resource = {}\n",
    "for elem in elem_map:\n",
    "    elem_resource[elem] = get_world_resource(elem, elem_map, doc)"
   ]
  },
  {
   "cell_type": "code",
   "execution_count": 303,
   "metadata": {},
   "outputs": [
    {
     "data": {
      "text/plain": [
       "'QUANTITY'"
      ]
     },
     "execution_count": 303,
     "metadata": {},
     "output_type": "execute_result"
    }
   ],
   "source": [
    "reserve_nlp.ents[0].label_"
   ]
  },
  {
   "cell_type": "code",
   "execution_count": 283,
   "metadata": {},
   "outputs": [],
   "source": [
    "reserve_nlp = nlp(reserves.text)"
   ]
  },
  {
   "cell_type": "code",
   "execution_count": 41,
   "metadata": {},
   "outputs": [],
   "source": [
    "for elem in doc.elements:\n",
    "    \n",
    "    if elem.text.startswith(\"World Resources\"):\n",
    "        resources = elem if elem.text.startswith(\"World Resources\") else None\n",
    "        break"
   ]
  },
  {
   "cell_type": "code",
   "execution_count": 51,
   "metadata": {},
   "outputs": [],
   "source": [
    "text = resources.text"
   ]
  },
  {
   "cell_type": "code",
   "execution_count": 55,
   "metadata": {},
   "outputs": [],
   "source": [
    "parsed = nlp(text)"
   ]
  },
  {
   "cell_type": "code",
   "execution_count": 56,
   "metadata": {},
   "outputs": [
    {
     "data": {
      "text/plain": [
       "World Resources:5 Owing to continuing exploration, identified lithium resources have increased substantially \n",
       "worldwide and total about 86 million tons. Lithium resources in the United States—from continental brines, \n",
       "geothermal brines, hectorite, oilfield brines, and pegmatites—are 7.9 million tons. Lithium resources in other countries \n",
       "have been revised to 78 million tons. Lithium resources are Bolivia, 21 million tons; Argentina, 19.3 million tons; Chile, \n",
       "9.6 million tons; Australia, 6.4 million tons; China, 5.1 million tons; Congo (Kinshasa), 3 million tons; Canada, \n",
       "2.9 million tons; Germany, 2.7 million tons; Mexico, 1.7 million tons; Czechia, 1.3 million tons; Serbia, 1.2 million tons; \n",
       "Peru, 880,000 tons; Mali, 700,000 tons; Zimbabwe, 500,000 tons; Brazil, 470,000 tons; Spain, 300,000 tons; Portugal, \n",
       "270,000 tons; Ghana, 90,000 tons; and Austria, Finland, Kazakhstan, and Namibia, 50,000 tons each."
      ]
     },
     "execution_count": 56,
     "metadata": {},
     "output_type": "execute_result"
    }
   ],
   "source": [
    "parsed"
   ]
  },
  {
   "cell_type": "code",
   "execution_count": 296,
   "metadata": {},
   "outputs": [
    {
     "ename": "AttributeError",
     "evalue": "'Document' object has no attribute 'ents'",
     "output_type": "error",
     "traceback": [
      "\u001b[0;31m---------------------------------------------------------------------------\u001b[0m",
      "\u001b[0;31mAttributeError\u001b[0m                            Traceback (most recent call last)",
      "\u001b[0;32m<ipython-input-296-8dabacc8f54a>\u001b[0m in \u001b[0;36m<module>\u001b[0;34m\u001b[0m\n\u001b[0;32m----> 1\u001b[0;31m \u001b[0;32mfor\u001b[0m \u001b[0ment\u001b[0m \u001b[0;32min\u001b[0m \u001b[0mdoc\u001b[0m\u001b[0;34m.\u001b[0m\u001b[0ments\u001b[0m\u001b[0;34m:\u001b[0m\u001b[0;34m\u001b[0m\u001b[0;34m\u001b[0m\u001b[0m\n\u001b[0m\u001b[1;32m      2\u001b[0m     \u001b[0mprint\u001b[0m\u001b[0;34m(\u001b[0m\u001b[0ment\u001b[0m\u001b[0;34m,\u001b[0m \u001b[0ment\u001b[0m\u001b[0;34m.\u001b[0m\u001b[0mlabel\u001b[0m\u001b[0;34m)\u001b[0m\u001b[0;34m\u001b[0m\u001b[0;34m\u001b[0m\u001b[0m\n",
      "\u001b[0;31mAttributeError\u001b[0m: 'Document' object has no attribute 'ents'"
     ]
    }
   ],
   "source": [
    "for ent in doc.ents:\n",
    "    print(ent, ent.label)"
   ]
  },
  {
   "cell_type": "code",
   "execution_count": null,
   "metadata": {},
   "outputs": [],
   "source": []
  },
  {
   "cell_type": "code",
   "execution_count": 73,
   "metadata": {},
   "outputs": [
    {
     "name": "stdout",
     "output_type": "stream",
     "text": [
      "The identified lithium resources resources nsubj total\n",
      "760,000 tons tons dobj total\n",
      "the United States States pobj in\n",
      "more than 12 million tons tons conj total\n",
      "other countries countries pobj in\n"
     ]
    }
   ],
   "source": [
    "for c in doc.noun_chunks:\n",
    "    print(c.text, c.root.text, c.root.dep_, c.root.head.text)"
   ]
  },
  {
   "cell_type": "code",
   "execution_count": 72,
   "metadata": {},
   "outputs": [
    {
     "name": "stdout",
     "output_type": "stream",
     "text": [
      "The det resources []\n",
      "identified amod resources []\n",
      "lithium compound resources []\n",
      "resources nsubj total [The, identified, lithium]\n",
      "total ROOT total [resources, tons, in, and, tons, .]\n",
      "760,000 nummod tons []\n",
      "tons dobj total [760,000]\n",
      "in prep total [States]\n",
      "the det States []\n",
      "United compound States []\n",
      "States pobj in [the, United]\n",
      "and cc total []\n",
      "more amod million []\n",
      "than quantmod million []\n",
      "12 compound million []\n",
      "million nummod tons [more, than, 12]\n",
      "tons conj total [million, in]\n",
      "in prep tons [countries]\n",
      "other amod countries []\n",
      "countries pobj in [other]\n",
      ". punct total []\n"
     ]
    }
   ],
   "source": [
    "for token in doc:\n",
    "    print(token.text, token.dep_, token.head.text, [c for c in token.children])\n",
    "    if token."
   ]
  },
  {
   "cell_type": "code",
   "execution_count": 70,
   "metadata": {},
   "outputs": [],
   "source": [
    "doc = nlp(\"The identified lithium resources total 760,000 tons in the United States and more than 12 million tons in other countries.\")"
   ]
  },
  {
   "cell_type": "code",
   "execution_count": 71,
   "metadata": {},
   "outputs": [
    {
     "ename": "SyntaxError",
     "evalue": "invalid syntax (<ipython-input-71-934ff3e6d73d>, line 1)",
     "output_type": "error",
     "traceback": [
      "\u001b[0;36m  File \u001b[0;32m\"<ipython-input-71-934ff3e6d73d>\"\u001b[0;36m, line \u001b[0;32m1\u001b[0m\n\u001b[0;31m    doc.\u001b[0m\n\u001b[0m        ^\u001b[0m\n\u001b[0;31mSyntaxError\u001b[0m\u001b[0;31m:\u001b[0m invalid syntax\n"
     ]
    }
   ],
   "source": [
    "doc."
   ]
  },
  {
   "cell_type": "code",
   "execution_count": null,
   "metadata": {},
   "outputs": [],
   "source": []
  }
 ],
 "metadata": {
  "kernelspec": {
   "display_name": "Python [conda env:spacy]",
   "language": "python",
   "name": "conda-env-spacy-py"
  },
  "language_info": {
   "codemirror_mode": {
    "name": "ipython",
    "version": 3
   },
   "file_extension": ".py",
   "mimetype": "text/x-python",
   "name": "python",
   "nbconvert_exporter": "python",
   "pygments_lexer": "ipython3",
   "version": "3.8.5"
  }
 },
 "nbformat": 4,
 "nbformat_minor": 4
}
