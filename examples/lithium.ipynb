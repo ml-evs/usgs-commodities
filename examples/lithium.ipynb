{
 "cells": [
  {
   "cell_type": "code",
   "execution_count": 1,
   "metadata": {},
   "outputs": [],
   "source": [
    "import sys\n",
    "import altair as alt\n",
    "alt.renderers.enable('notebook')\n",
    "sys.path.append('..')\n",
    "from usgs_commodities.ingest import scrape_data"
   ]
  },
  {
   "cell_type": "code",
   "execution_count": 2,
   "metadata": {},
   "outputs": [],
   "source": [
    "dfs = scrape_data()"
   ]
  },
  {
   "cell_type": "code",
   "execution_count": 3,
   "metadata": {},
   "outputs": [],
   "source": [
    "lithium_df = dfs['lithium']"
   ]
  },
  {
   "cell_type": "code",
   "execution_count": 4,
   "metadata": {},
   "outputs": [
    {
     "data": {
      "text/plain": [
       "Index(['year', 'global resource (kg)',\n",
       "       'global production excl. US [first estimate] (kg)',\n",
       "       'global production excl. US [latest estimate] (kg)',\n",
       "       'global reserves (kg)'],\n",
       "      dtype='object')"
      ]
     },
     "execution_count": 4,
     "metadata": {},
     "output_type": "execute_result"
    }
   ],
   "source": [
    "lithium_df.columns"
   ]
  },
  {
   "cell_type": "code",
   "execution_count": 9,
   "metadata": {
    "scrolled": false
   },
   "outputs": [
    {
     "data": {
      "application/javascript": [
       "var spec = {\"config\": {\"view\": {\"width\": 400, \"height\": 300}, \"mark\": {\"tooltip\": null}}, \"data\": {\"name\": \"data-74a7a5db0bb84e59e71845a3ea342e40\"}, \"mark\": {\"type\": \"line\", \"point\": true}, \"encoding\": {\"tooltip\": [{\"type\": \"quantitative\", \"field\": \"year\"}, {\"type\": \"quantitative\", \"field\": \"global resource (kg)\"}, {\"type\": \"quantitative\", \"field\": \"global reserves (kg)\"}], \"x\": {\"type\": \"ordinal\", \"field\": \"year\"}, \"y\": {\"type\": \"quantitative\", \"field\": \"global resource (kg)\"}}, \"$schema\": \"https://vega.github.io/schema/vega-lite/v3.2.1.json\", \"datasets\": {\"data-74a7a5db0bb84e59e71845a3ea342e40\": [{\"year\": 2019, \"global resource (kg)\": 61800000000.0, \"global production excl. US [first estimate] (kg)\": \"       \", \"global production excl. US [latest estimate] (kg)\": \"       \", \"global reserves (kg)\": 1400000.0}, {\"year\": 2018, \"global resource (kg)\": 53800000000.0, \"global production excl. US [first estimate] (kg)\": \" 8.50e4\", \"global production excl. US [latest estimate] (kg)\": \"       \", \"global reserves (kg)\": 1600000.0}, {\"year\": 2017, \"global resource (kg)\": 46900000000.0, \"global production excl. US [first estimate] (kg)\": \" 4.30e4\", \"global production excl. US [latest estimate] (kg)\": \" 6.90e4\", \"global reserves (kg)\": 1400000.0}, {\"year\": 2016, \"global resource (kg)\": 40700000000.0, \"global production excl. US [first estimate] (kg)\": \" 3.50e4\", \"global production excl. US [latest estimate] (kg)\": \" 3.80e4\", \"global reserves (kg)\": 1400000.0}, {\"year\": 2015, \"global resource (kg)\": 39500000000.0, \"global production excl. US [first estimate] (kg)\": \" 3.15e4\", \"global production excl. US [latest estimate] (kg)\": \" 3.25e4\", \"global reserves (kg)\": 1350000.0}, {\"year\": 2014, \"global resource (kg)\": 39500000000.0, \"global production excl. US [first estimate] (kg)\": \" 3.17e4\", \"global production excl. US [latest estimate] (kg)\": \" 4.60e4\", \"global reserves (kg)\": 1300000.0}, {\"year\": 2013, \"global resource (kg)\": 39500000000.0, \"global production excl. US [first estimate] (kg)\": \" 3.50e4\", \"global production excl. US [latest estimate] (kg)\": \" 3.40e4\", \"global reserves (kg)\": 1300000.0}, {\"year\": 2012, \"global resource (kg)\": 34000000000.0, \"global production excl. US [first estimate] (kg)\": \" 3.70e4\", \"global production excl. US [latest estimate] (kg)\": \" 3.50e4\", \"global reserves (kg)\": 1300000.0}, {\"year\": 2011, \"global resource (kg)\": 33300000000.0, \"global production excl. US [first estimate] (kg)\": \" 3.40e4\", \"global production excl. US [latest estimate] (kg)\": \" 3.41e4\", \"global reserves (kg)\": 1300000.0}, {\"year\": 2010, \"global resource (kg)\": 25500000000.0, \"global production excl. US [first estimate] (kg)\": \" 2.53e4\", \"global production excl. US [latest estimate] (kg)\": \" 2.81e4\", \"global reserves (kg)\": 990000.0}]}};\n",
       "var opt = {};\n",
       "var type = \"vega-lite\";\n",
       "var id = \"01f132ee-6e6d-4643-808f-92219661785f\";\n",
       "\n",
       "var output_area = this;\n",
       "\n",
       "require([\"nbextensions/jupyter-vega/index\"], function(vega) {\n",
       "  var target = document.createElement(\"div\");\n",
       "  target.id = id;\n",
       "  target.className = \"vega-embed\";\n",
       "\n",
       "  var style = document.createElement(\"style\");\n",
       "  style.textContent = [\n",
       "    \".vega-embed .error p {\",\n",
       "    \"  color: firebrick;\",\n",
       "    \"  font-size: 14px;\",\n",
       "    \"}\",\n",
       "  ].join(\"\\\\n\");\n",
       "\n",
       "  // element is a jQuery wrapped DOM element inside the output area\n",
       "  // see http://ipython.readthedocs.io/en/stable/api/generated/\\\n",
       "  // IPython.display.html#IPython.display.Javascript.__init__\n",
       "  element[0].appendChild(target);\n",
       "  element[0].appendChild(style);\n",
       "\n",
       "  vega.render(\"#\" + id, spec, type, opt, output_area);\n",
       "}, function (err) {\n",
       "  if (err.requireType !== \"scripterror\") {\n",
       "    throw(err);\n",
       "  }\n",
       "});\n"
      ],
      "text/plain": [
       "<vega.vegalite.VegaLite at 0x7f5b968157b8>"
      ]
     },
     "metadata": {
      "jupyter-vega": "#01f132ee-6e6d-4643-808f-92219661785f"
     },
     "output_type": "display_data"
    },
    {
     "data": {
      "text/plain": []
     },
     "execution_count": 9,
     "metadata": {},
     "output_type": "execute_result"
    },
    {
     "data": {
      "image/png": "[encoded data removed]"
     },
     "metadata": {
      "jupyter-vega": "#01f132ee-6e6d-4643-808f-92219661785f"
     },
     "output_type": "display_data"
    }
   ],
   "source": [
    "alt.Chart(lithium_df).mark_line(point=True).encode(\n",
    "    x='year:O',\n",
    "    y='global resource (kg):Q',\n",
    "    tooltip=['year',\n",
    "             'global resource (kg)', \n",
    "             'global reserves (kg)']\n",
    ")"
   ]
  },
  {
   "cell_type": "code",
   "execution_count": null,
   "metadata": {},
   "outputs": [],
   "source": []
  }
 ],
 "metadata": {
  "kernelspec": {
   "display_name": "Python [conda env:jupyter]",
   "language": "python",
   "name": "conda-env-jupyter-py"
  },
  "language_info": {
   "codemirror_mode": {
    "name": "ipython",
    "version": 3
   },
   "file_extension": ".py",
   "mimetype": "text/x-python",
   "name": "python",
   "nbconvert_exporter": "python",
   "pygments_lexer": "ipython3",
   "version": "3.7.2"
  },
  "widgets": {
   "state": {},
   "version": "1.1.2"
  }
 },
 "nbformat": 4,
 "nbformat_minor": 2
}
