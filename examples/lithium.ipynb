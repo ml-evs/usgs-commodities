{
 "cells": [
  {
   "cell_type": "code",
   "execution_count": null,
   "metadata": {},
   "outputs": [],
   "source": [
    "import sys\n",
    "import altair as alt\n",
    "alt.renderers.enable('notebook')\n",
    "import matplotlib.pyplot as plt\n",
    "%matplotlib inline\n",
    "\n",
    "sys.path.append('..')\n",
    "from usgs_commodities.ingest import scrape_data"
   ]
  },
  {
   "cell_type": "code",
   "execution_count": null,
   "metadata": {},
   "outputs": [],
   "source": [
    "dfs = scrape_data()\n",
    "lithium_df = dfs['lithium']"
   ]
  },
  {
   "cell_type": "code",
   "execution_count": null,
   "metadata": {
    "scrolled": false
   },
   "outputs": [],
   "source": [
    "(alt.Chart(lithium_df, title='Global Lithium resources since 2010', width=400, height=300)\n",
    "    .mark_line(\n",
    "        point=dict(fill='#FFFFFF', stroke='k')\n",
    "    )\n",
    "    .encode(\n",
    "        x='year:O',\n",
    "        y='global resource (kg):Q',\n",
    "        tooltip=['year',\n",
    "                 'global resource (kg)', \n",
    "                 'global reserves (kg)']\n",
    "    )\n",
    ")"
   ]
  },
  {
   "cell_type": "code",
   "execution_count": null,
   "metadata": {},
   "outputs": [],
   "source": [
    "import matplotlib.ticker as plticker\n",
    "\n",
    "fig = plt.figure(figsize=(5, 8))\n",
    "ax1 = fig.add_subplot(211)\n",
    "ax2 = fig.add_subplot(212, sharex=ax1)\n",
    "\n",
    "ax1.plot(lithium_df['year'],\n",
    "        lithium_df['global reserves (kg)'],\n",
    "        marker='o', markeredgecolor='w', markeredgewidth=3, markersize=10)\n",
    "ax1.set_ylabel('global reserves (kg)')\n",
    "\n",
    "ax2._get_lines.get_next_color()\n",
    "ax2.plot(lithium_df['year'],\n",
    "        lithium_df['global production excl. US [latest estimate] (kg)'],\n",
    "        marker='o', markeredgecolor='w', markeredgewidth=3, markersize=10)\n",
    "ax2.set_ylabel('global production excl. US (kg)')\n",
    "ax2.set_xlabel('year')\n",
    "\n",
    "\n",
    "loc = plticker.MultipleLocator(base=1.0)\n",
    "ax2.xaxis.set_major_locator(loc)"
   ]
  },
  {
   "cell_type": "code",
   "execution_count": null,
   "metadata": {},
   "outputs": [],
   "source": []
  }
 ],
 "metadata": {
  "kernelspec": {
   "display_name": "Python [conda env:jupyter]",
   "language": "python",
   "name": "conda-env-jupyter-py"
  },
  "language_info": {
   "codemirror_mode": {
    "name": "ipython",
    "version": 3
   },
   "file_extension": ".py",
   "mimetype": "text/x-python",
   "name": "python",
   "nbconvert_exporter": "python",
   "pygments_lexer": "ipython3",
   "version": "3.7.2"
  },
  "widgets": {
   "state": {},
   "version": "1.1.2"
  }
 },
 "nbformat": 4,
 "nbformat_minor": 2
}
